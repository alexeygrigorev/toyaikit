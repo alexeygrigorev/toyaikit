{
 "cells": [
  {
   "cell_type": "code",
   "execution_count": 1,
   "id": "2486e773-9207-4cea-b26a-c2dc731e5630",
   "metadata": {},
   "outputs": [],
   "source": [
    "import sys\n",
    "sys.path.insert(0, '..')"
   ]
  },
  {
   "cell_type": "code",
   "execution_count": 15,
   "id": "fe8f8dc2-ef10-4add-8504-5012518c04e1",
   "metadata": {},
   "outputs": [],
   "source": [
    "from openai import OpenAI\n",
    "\n",
    "from toyaikit.llm import OpenAIClient\n",
    "from toyaikit.tools import Tools\n",
    "from toyaikit.chat import IPythonChatInterface\n",
    "from toyaikit.chat.runners import OpenAIResponsesRunner, DisplayingRunnerCallback\n",
    "\n",
    "tools = Tools()\n",
    "\n",
    "def get_weather(city: str):\n",
    "    \"\"\"Get weather information for a city.\"\"\"\n",
    "    return f\"Weather in {city}: Sunny, 25°C\"\n",
    "\n",
    "tools.add_tool(get_weather)\n",
    "\n",
    "chat_interface = IPythonChatInterface()\n",
    "openai_client = OpenAIClient(\n",
    "    model=\"gpt-4o-mini\",\n",
    "    client=OpenAI()\n",
    ")\n",
    "\n",
    "callback = DisplayingRunnerCallback(chat_interface)\n",
    "\n",
    "runner = OpenAIResponsesRunner(\n",
    "    tools=tools,\n",
    "    developer_prompt=\"You are a helpful weather assistant.\",\n",
    "    chat_interface=chat_interface,\n",
    "    llm_client=openai_client\n",
    ")"
   ]
  },
  {
   "cell_type": "code",
   "execution_count": 16,
   "id": "4861142c-3837-41e7-b3e4-c0f7a6b33d45",
   "metadata": {},
   "outputs": [
    {
     "data": {
      "text/html": [
       "\n",
       "            <details>\n",
       "            <summary>Function call: <tt>get_weather({\"city\":\"Berlin\"})</tt></summary>\n",
       "            <div>\n",
       "                <b>Call</b>\n",
       "                <pre>{\"city\":\"Berlin\"}</pre>\n",
       "            </div>\n",
       "            <div>\n",
       "                <b>Output</b>\n",
       "                <pre>{'type': 'function_call_output', 'call_id': 'call_yuFTzNjHK9fRkDpFX1uyU9cw', 'output': '\"Weather in Berlin: Sunny, 25\\\\u00b0C\"'}</pre>\n",
       "            </div>\n",
       "\n",
       "            </details>\n",
       "        "
      ],
      "text/plain": [
       "<IPython.core.display.HTML object>"
      ]
     },
     "metadata": {},
     "output_type": "display_data"
    },
    {
     "data": {
      "text/html": [
       "\n",
       "            <div>\n",
       "                <div><b>Assistant:</b></div>\n",
       "                <div><p>The weather in Berlin today is sunny, with a temperature of 25°C.</p>\n",
       "</div>\n",
       "            </div>\n",
       "        "
      ],
      "text/plain": [
       "<IPython.core.display.HTML object>"
      ]
     },
     "metadata": {},
     "output_type": "display_data"
    }
   ],
   "source": [
    "result = runner.loop(\"what's the weather today in Berlin?\", callback=callback)"
   ]
  },
  {
   "cell_type": "code",
   "execution_count": 17,
   "id": "17e9d193-9826-4ba1-acb4-361d5459eec4",
   "metadata": {},
   "outputs": [
    {
     "data": {
      "text/plain": [
       "Decimal('0.0000438')"
      ]
     },
     "execution_count": 17,
     "metadata": {},
     "output_type": "execute_result"
    }
   ],
   "source": [
    "result.cost.total_cost"
   ]
  },
  {
   "cell_type": "code",
   "execution_count": null,
   "id": "dc69a51a-33ce-45af-bc4e-b57363697ece",
   "metadata": {},
   "outputs": [],
   "source": []
  }
 ],
 "metadata": {
  "kernelspec": {
   "display_name": "Python 3 (ipykernel)",
   "language": "python",
   "name": "python3"
  },
  "language_info": {
   "codemirror_mode": {
    "name": "ipython",
    "version": 3
   },
   "file_extension": ".py",
   "mimetype": "text/x-python",
   "name": "python",
   "nbconvert_exporter": "python",
   "pygments_lexer": "ipython3",
   "version": "3.13.5"
  }
 },
 "nbformat": 4,
 "nbformat_minor": 5
}
